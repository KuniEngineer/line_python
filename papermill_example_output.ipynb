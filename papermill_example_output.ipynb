{
 "cells": [
  {
   "cell_type": "code",
   "execution_count": 1,
   "id": "23447a21",
   "metadata": {
    "execution": {
     "iopub.execute_input": "2022-09-05T10:57:34.289231Z",
     "iopub.status.busy": "2022-09-05T10:57:34.289231Z",
     "iopub.status.idle": "2022-09-05T10:57:35.191017Z",
     "shell.execute_reply": "2022-09-05T10:57:35.189996Z"
    },
    "papermill": {
     "duration": 0.904778,
     "end_time": "2022-09-05T10:57:35.194009",
     "exception": false,
     "start_time": "2022-09-05T10:57:34.289231",
     "status": "completed"
    },
    "tags": []
   },
   "outputs": [],
   "source": [
    "import datetime\n",
    "import urllib.request as req\n",
    "import requests\n",
    "from bs4 import BeautifulSoup\n",
    "import re\n",
    "\n",
    "#LINE notifyの設定を行う\n",
    "url = \"https://notify-api.line.me/api/notify\"\n",
    "access_token = 'x4nBUyXr26ydgceHqFqyWrQMqhjrWysvdwXHSwGGEbf'\n",
    "headers = {'Authorization': 'Bearer ' + access_token}\n",
    "\n",
    "#天気サイトから欲しい情報を取得する\n",
    "url2 = \"https://tenki.jp/forecast/3/17/4610/14100/\"   #欲しい情報があるURLを指定\n",
    "res = requests.get(url2)                              #上記URL情報を取得する\n",
    "soup = BeautifulSoup(res.content, 'html.parser')      #取得した情報をhtmlで解析する\n",
    "\n",
    "# 以下各種情報を取得\n",
    "ddd = soup.find(class_=\"left-style\")                  \n",
    "\n",
    "telop = soup.find(\"p\", class_=\"weather-telop\").string\n",
    "\n",
    "highlists = soup.find(\"dd\",class_=\"high-temp temp\")\n",
    "\n",
    "lowlists = soup.find(\"dd\",class_=\"low-temp temp\")\n",
    "\n",
    "ttt = soup.find(class_=\"rain-probability\")\n",
    "\n",
    "row=[]\n",
    "for t in ttt:\n",
    "    row.append(t)\n",
    "\n",
    "# message変数に通知したい文を代入する　改行したい場合は \"\\n\" とダブルクォテーションで囲う\n",
    "message=\"\\n\" + ddd.text + \"\\n\" + telop + \"\\n\" + \"最高　\" + highlists.text + \"\\n\" + \"最低　\" + lowlists.text + \"\\n\"+ \"---------\" + \"\\n\" +row[1].text +\"\\n\" + \"~6  : \" + row[3].text + \"\\n\" + \"~12 : \" + row[5].text +\"\\n\" + \"~18 : \" + row[7].text +\"\\n\" + \"~24 : \" + row[9].text +\"\\n\" +\"今日も元気に٩( 'ω' )و \"\n",
    "\n",
    "payload = {'message': message}\n",
    "r = requests.post(url, headers=headers, params=payload,)"
   ]
  },
  {
   "cell_type": "code",
   "execution_count": null,
   "id": "c39afe15",
   "metadata": {
    "papermill": {
     "duration": 0.002995,
     "end_time": "2022-09-05T10:57:35.201128",
     "exception": false,
     "start_time": "2022-09-05T10:57:35.198133",
     "status": "completed"
    },
    "tags": []
   },
   "outputs": [],
   "source": []
  }
 ],
 "metadata": {
  "kernelspec": {
   "display_name": "Python 3",
   "language": "python",
   "name": "python3"
  },
  "language_info": {
   "codemirror_mode": {
    "name": "ipython",
    "version": 3
   },
   "file_extension": ".py",
   "mimetype": "text/x-python",
   "name": "python",
   "nbconvert_exporter": "python",
   "pygments_lexer": "ipython3",
   "version": "3.10.6"
  },
  "papermill": {
   "default_parameters": {},
   "duration": 4.197272,
   "end_time": "2022-09-05T10:57:35.549412",
   "environment_variables": {},
   "exception": null,
   "input_path": "tenki.ipynb",
   "output_path": "papermill_example_output.ipynb",
   "parameters": {},
   "start_time": "2022-09-05T10:57:31.352140",
   "version": "2.4.0"
  }
 },
 "nbformat": 4,
 "nbformat_minor": 5
}