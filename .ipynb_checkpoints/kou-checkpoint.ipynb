{
 "cells": [
  {
   "cell_type": "code",
   "execution_count": 8,
   "metadata": {},
   "outputs": [],
   "source": [
    "import datetime\n",
    "import urllib.request as req\n",
    "import requests\n",
    "from bs4 import BeautifulSoup\n",
    "import re\n",
    "\n",
    "#LINE notifyの設定を行う\n",
    "url_line = \"https://notify-api.line.me/api/notify\"\n",
    "access_token = 'pZ5AcvyZnjzUBOmadQk3Gk65rTPugWor5boGkJjEaB6'\n",
    "headers = {'Authorization': 'Bearer ' + access_token}\n",
    "\n",
    "#スケジュールのurlを取得する\n",
    "url = \"https://baseball.yahoo.co.jp/npb/teams/12/schedule\"   #欲しい情報があるURLを指定\n",
    "res = requests.get(url)                              #上記URL情報を取得する\n",
    "soup = BeautifulSoup(res.content, 'html.parser')      #取得した情報をhtmlで解析する\n",
    "\n",
    "#本日の日付を特定する\n",
    "date = datetime.datetime.now()\n",
    "month = date.month\n",
    "day = date.day\n",
    "\n",
    "#today_dateに合わせた情報を取得する\n",
    "today_result = soup.find_all(\"div\",class_=\"bb-calendarTable__wrap\")[day+2].text.replace(\"\\n\",\"\")\n",
    "\n",
    "# message変数に通知したい文を代入する　改行したい場合は \"\\n\" とダブルクォテーションで囲う\n",
    "if today_result[int(len(str(day))):] ==\"試合なし\":\n",
    "    message=\"\\n\\n\" + \"本日{}月{}日の試合結果(速報)\".format(month,day) + \"\\n\\n\" + today_result[int(len(str(day))):]\n",
    "else:\n",
    "    message=\"\\n\\n\" + \"本日{}月{}日の試合結果(速報)\".format(month,day) + \"\\n\\n\" + \"vs\" + today_result[int(len(str(day))):]\n",
    "\n",
    "payload = {'message': message}\n",
    "r = requests.post(url_line, headers=headers, params=payload,)"
   ]
  },
  {
   "cell_type": "code",
   "execution_count": null,
   "metadata": {},
   "outputs": [],
   "source": []
  }
 ],
 "metadata": {
  "kernelspec": {
   "display_name": "Python 3",
   "language": "python",
   "name": "python3"
  },
  "language_info": {
   "codemirror_mode": {
    "name": "ipython",
    "version": 3
   },
   "file_extension": ".py",
   "mimetype": "text/x-python",
   "name": "python",
   "nbconvert_exporter": "python",
   "pygments_lexer": "ipython3",
   "version": "3.7.3"
  }
 },
 "nbformat": 4,
 "nbformat_minor": 2
}
