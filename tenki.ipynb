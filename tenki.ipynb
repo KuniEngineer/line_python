{
 "cells": [
  {
   "cell_type": "code",
   "execution_count": 55,
   "metadata": {
    "scrolled": false
   },
   "outputs": [],
   "source": [
    "import datetime\n",
    "import urllib.request as req\n",
    "import requests\n",
    "from bs4 import BeautifulSoup\n",
    "import re\n",
    "\n",
    "#LINE notifyの設定を行う\n",
    "url = \"https://notify-api.line.me/api/notify\"\n",
    "access_token = 'x4nBUyXr26ydgceHqFqyWrQMqhjrWysvdwXHSwGGEbf'\n",
    "headers = {'Authorization': 'Bearer ' + access_token}\n",
    "\n",
    "#天気サイトから欲しい情報を取得する\n",
    "url2 = \"https://tenki.jp/forecast/3/17/4610/14100/\"   #欲しい情報があるURLを指定\n",
    "res = requests.get(url2)                              #上記URL情報を取得する\n",
    "soup = BeautifulSoup(res.content, 'html.parser')      #取得した情報をhtmlで解析する\n",
    "\n",
    "# 以下各種情報を取得\n",
    "target =\"気\"\n",
    "yokohama_all=soup.find(\"h2\").text\n",
    "idx=yokohama_all.find(target)\n",
    "yokohama=yokohama_all[:idx+1]\n",
    "\n",
    "target2 =\")\"\n",
    "hiniti=soup.find(class_=\"left-style\").text\n",
    "idx=hiniti.find(target2)\n",
    "ddd=hiniti[:idx+1]                 \n",
    "\n",
    "telop = soup.find(\"p\", class_=\"weather-telop\").string\n",
    "\n",
    "highlists = soup.find(\"dd\",class_=\"high-temp temp\")\n",
    "\n",
    "lowlists = soup.find(\"dd\",class_=\"low-temp temp\")\n",
    "\n",
    "ttt = soup.find(class_=\"rain-probability\")\n",
    "\n",
    "row=[]\n",
    "for t in ttt:\n",
    "    row.append(t)\n",
    "\n",
    "# message変数に通知したい文を代入する　改行したい場合は \"\\n\" とダブルクォテーションで囲う\n",
    "message=\"\\n\\n\" + yokohama + \"\\n\\n\" + ddd + \"\\n\" + telop + \"\\n\" + \"最高　\" + highlists.text + \"\\n\" + \"最低　\" + lowlists.text + \"\\n\"+ \"---------\" + \"\\n\" +row[1].text +\"\\n\" + \"~6  : \" + row[3].text + \"\\n\" + \"~12 : \" + row[5].text +\"\\n\" + \"~18 : \" + row[7].text +\"\\n\" + \"~24 : \" + row[9].text\n",
    "\n",
    "payload = {'message': message}\n",
    "r = requests.post(url, headers=headers, params=payload,)"
   ]
  },
  {
   "cell_type": "code",
   "execution_count": 36,
   "metadata": {},
   "outputs": [
    {
     "data": {
      "text/plain": [
       "'横浜市の天気05日20:00発表\\n'"
      ]
     },
     "execution_count": 36,
     "metadata": {},
     "output_type": "execute_result"
    }
   ],
   "source": [
    "soup.find(\"h2\").text\n"
   ]
  },
  {
   "cell_type": "code",
   "execution_count": 57,
   "metadata": {},
   "outputs": [
    {
     "name": "stdout",
     "output_type": "stream",
     "text": [
      "\n",
      "\n",
      "<th>降水確率</th>\n",
      "\n",
      "\n",
      "<td><span class=\"grey\">---</span></td>\n",
      "\n",
      "\n",
      "<td><span class=\"grey\">---</span></td>\n",
      "\n",
      "\n",
      "<td>0<span class=\"unit\">%</span></td>\n",
      "\n",
      "\n",
      "<td>10<span class=\"unit\">%</span></td>\n",
      "\n",
      "\n",
      "<tr class=\"rain-probability\">\n",
      "<th>降水確率</th>\n",
      "<td><span class=\"grey\">---</span></td>\n",
      "<td><span class=\"grey\">---</span></td>\n",
      "<td>0<span class=\"unit\">%</span></td>\n",
      "<td>10<span class=\"unit\">%</span></td>\n",
      "</tr>\n"
     ]
    }
   ],
   "source": [
    "import datetime\n",
    "import urllib.request as req\n",
    "import requests\n",
    "from bs4 import BeautifulSoup\n",
    "import re\n",
    "#天気サイトから欲しい情報を取得する\n",
    "url2 = \"https://tenki.jp/forecast/3/17/4610/14100/\"   #欲しい情報があるURLを指定\n",
    "res = requests.get(url2)                              #上記URL情報を取得する\n",
    "soup = BeautifulSoup(res.content, 'html.parser')      #取得した情報をhtmlで解析する\n",
    "\n",
    "# 以下各種情報を取得\n",
    "target =\"気\"\n",
    "yokohama_all=soup.find(\"h2\").text\n",
    "idx=yokohama_all.find(target)\n",
    "yokohama=yokohama_all[:idx+1]\n",
    "\n",
    "target2 =\")\"\n",
    "hiniti=soup.find(class_=\"left-style\").text\n",
    "idx=hiniti.find(target2)\n",
    "ddd=hiniti[:idx+1]                 \n",
    "\n",
    "telop = soup.find(\"p\", class_=\"weather-telop\").string\n",
    "\n",
    "highlists = soup.find(\"dd\",class_=\"high-temp temp\")\n",
    "\n",
    "lowlists = soup.find(\"dd\",class_=\"low-temp temp\")\n",
    "\n",
    "ttt = soup.find(class_=\"rain-probability\")\n",
    "\n",
    "row=[]\n",
    "for t in ttt:\n",
    "    row.append(t)\n",
    "    print(t)\n",
    "\n",
    "print(ttt)"
   ]
  },
  {
   "cell_type": "code",
   "execution_count": null,
   "metadata": {},
   "outputs": [],
   "source": []
  }
 ],
 "metadata": {
  "kernelspec": {
   "display_name": "Python 3",
   "language": "python",
   "name": "python3"
  },
  "language_info": {
   "codemirror_mode": {
    "name": "ipython",
    "version": 3
   },
   "file_extension": ".py",
   "mimetype": "text/x-python",
   "name": "python",
   "nbconvert_exporter": "python",
   "pygments_lexer": "ipython3",
   "version": "3.7.3"
  }
 },
 "nbformat": 4,
 "nbformat_minor": 2
}
